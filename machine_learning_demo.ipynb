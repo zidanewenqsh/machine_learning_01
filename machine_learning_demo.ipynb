{
 "cells": [
  {
   "cell_type": "markdown",
   "metadata": {},
   "source": [
    "## 导包"
   ]
  },
  {
   "cell_type": "code",
   "execution_count": 1,
   "metadata": {},
   "outputs": [],
   "source": [
    "from IPython.core.interactiveshell import InteractiveShell \n",
    "InteractiveShell.ast_node_interactivity = 'all' #默认为'last'\n",
    "\n",
    "import numpy as np\n",
    "import pandas as pd\n",
    "import os\n",
    "import sympy \n",
    "# import numpy.linalg as LA\n",
    "from sympy import *\n",
    "from matplotlib import pyplot as plt\n",
    "%matplotlib inline\n",
    "plt.rcParams['font.sans-serif']=['SimHei'] #指定默认字体 SimHei为黑体\n",
    "plt.rcParams['axes.unicode_minus']=False #用来正常显示负号\n",
    "sympy.init_printing(use_latex=True)\n",
    "x, y, z = symbols('x y z',real=True)\n",
    "\n",
    "import torch\n",
    "import scipy.linalg as la\n",
    "import numpy.linalg as LA\n",
    "\n",
    "np.set_printoptions(precision=2,suppress=True)\n",
    "\n",
    "#Note that http urls will not be displayed. Only https are allowed inside the Iframe\n",
    "from IPython.display import IFrame"
   ]
  },
  {
   "cell_type": "code",
   "execution_count": null,
   "metadata": {},
   "outputs": [],
   "source": []
  },
  {
   "cell_type": "markdown",
   "metadata": {},
   "source": [
    "# 广义线性回归和对偶优化"
   ]
  },
  {
   "cell_type": "markdown",
   "metadata": {},
   "source": [
    "## 共轭函数"
   ]
  },
  {
   "cell_type": "markdown",
   "metadata": {},
   "source": [
    "###  numpy"
   ]
  },
  {
   "cell_type": "code",
   "execution_count": 46,
   "metadata": {},
   "outputs": [
    {
     "data": {
      "image/png": "[encoded data removed]",
      "text/latex": [
       "$\\displaystyle \\left( 1, \\  11\\right)$"
      ],
      "text/plain": [
       "(1, 11)"
      ]
     },
     "execution_count": 46,
     "metadata": {},
     "output_type": "execute_result"
    },
    {
     "data": {
      "image/png": "[encoded data removed]",
      "text/latex": [
       "$\\displaystyle \\left( 1, \\  11\\right)$"
      ],
      "text/plain": [
       "(1, 11)"
      ]
     },
     "execution_count": 46,
     "metadata": {},
     "output_type": "execute_result"
    },
    {
     "data": {
      "text/plain": [
       "array([[-2. , -1.6, -1.2, -0.8, -0.4,  0. ,  0.4,  0.8,  1.2,  1.6,  2. ]])"
      ]
     },
     "execution_count": 46,
     "metadata": {},
     "output_type": "execute_result"
    },
    {
     "data": {
      "text/plain": [
       "array([[ 8.  ,  5.76,  3.84,  2.24,  0.96,  0.  , -0.64, -0.96, -0.96,\n",
       "        -0.64,  0.  ]])"
      ]
     },
     "execution_count": 46,
     "metadata": {},
     "output_type": "execute_result"
    },
    {
     "data": {
      "text/plain": [
       "array([0.  , 0.  , 0.16, 0.32, 0.64, 0.96, 1.44, 1.92, 2.56, 3.2 , 4.  ])"
      ]
     },
     "execution_count": 46,
     "metadata": {},
     "output_type": "execute_result"
    },
    {
     "data": {
      "text/plain": [
       "[<matplotlib.lines.Line2D at 0x21ec5ab9688>]"
      ]
     },
     "execution_count": 46,
     "metadata": {},
     "output_type": "execute_result"
    },
    {
     "data": {
      "text/plain": [
       "[<matplotlib.lines.Line2D at 0x21ec5a8f2c8>]"
      ]
     },
     "execution_count": 46,
     "metadata": {},
     "output_type": "execute_result"
    },
    {
     "data": {
      "image/png": "[encoded data removed]",
      "text/plain": [
       "<Figure size 432x288 with 1 Axes>"
      ]
     },
     "metadata": {
      "needs_background": "light"
     },
     "output_type": "display_data"
    },
    {
     "data": {
      "text/plain": [
       "[<matplotlib.lines.Line2D at 0x21ec527b188>]"
      ]
     },
     "execution_count": 46,
     "metadata": {},
     "output_type": "execute_result"
    },
    {
     "data": {
      "text/plain": [
       "[<matplotlib.lines.Line2D at 0x21ec5550488>]"
      ]
     },
     "execution_count": 46,
     "metadata": {},
     "output_type": "execute_result"
    },
    {
     "data": {
      "text/plain": [
       "[<matplotlib.lines.Line2D at 0x21ec4f6eac8>]"
      ]
     },
     "execution_count": 46,
     "metadata": {},
     "output_type": "execute_result"
    },
    {
     "data": {
      "text/plain": [
       "[<matplotlib.lines.Line2D at 0x21ec56ef1c8>]"
      ]
     },
     "execution_count": 46,
     "metadata": {},
     "output_type": "execute_result"
    },
    {
     "data": {
      "text/plain": [
       "[<matplotlib.lines.Line2D at 0x21ec5e7a5c8>]"
      ]
     },
     "execution_count": 46,
     "metadata": {},
     "output_type": "execute_result"
    },
    {
     "data": {
      "text/plain": [
       "[<matplotlib.lines.Line2D at 0x21ec5e7a588>]"
      ]
     },
     "execution_count": 46,
     "metadata": {},
     "output_type": "execute_result"
    },
    {
     "data": {
      "text/plain": [
       "[<matplotlib.lines.Line2D at 0x21ec5e5be48>]"
      ]
     },
     "execution_count": 46,
     "metadata": {},
     "output_type": "execute_result"
    },
    {
     "data": {
      "text/plain": [
       "[<matplotlib.lines.Line2D at 0x21ec5e565c8>]"
      ]
     },
     "execution_count": 46,
     "metadata": {},
     "output_type": "execute_result"
    },
    {
     "data": {
      "text/plain": [
       "[<matplotlib.lines.Line2D at 0x21ec5e709c8>]"
      ]
     },
     "execution_count": 46,
     "metadata": {},
     "output_type": "execute_result"
    },
    {
     "data": {
      "text/plain": [
       "[<matplotlib.lines.Line2D at 0x21ec5e56048>]"
      ]
     },
     "execution_count": 46,
     "metadata": {},
     "output_type": "execute_result"
    },
    {
     "data": {
      "text/plain": [
       "[<matplotlib.lines.Line2D at 0x21ec5264088>]"
      ]
     },
     "execution_count": 46,
     "metadata": {},
     "output_type": "execute_result"
    },
    {
     "data": {
      "image/png": "[encoded data removed]",
      "text/plain": [
       "<Figure size 432x288 with 1 Axes>"
      ]
     },
     "metadata": {
      "needs_background": "light"
     },
     "output_type": "display_data"
    }
   ],
   "source": [
    "x = np.linspace(-2,2,11).reshape(1,-1)\n",
    "x.shape\n",
    "y = x.T\n",
    "fx = x**2-2*x\n",
    "fx.shape\n",
    "fy = np.max(y@x-fx,axis = 1)\n",
    "dfx= 2*x-2 # 导数\n",
    "x\n",
    "fx\n",
    "fy\n",
    "plt.plot(x[0],fy)\n",
    "plt.plot(x[0],fx[0])\n",
    "plt.show()\n",
    "for arr in y@x:\n",
    "#     arr\n",
    "    plt.plot(x[0], arr)\n",
    "plt.show()\n"
   ]
  },
  {
   "cell_type": "code",
   "execution_count": 41,
   "metadata": {},
   "outputs": [
    {
     "data": {
      "text/plain": [
       "array([ 5,  5,  6,  6,  7,  7,  8,  8,  9,  9, 10], dtype=int64)"
      ]
     },
     "execution_count": 41,
     "metadata": {},
     "output_type": "execute_result"
    },
    {
     "data": {
      "text/plain": [
       "array([0.  , 0.  , 0.16, 0.32, 0.64, 0.96, 1.44, 1.92, 2.56, 3.2 , 4.  ])"
      ]
     },
     "execution_count": 41,
     "metadata": {},
     "output_type": "execute_result"
    },
    {
     "data": {
      "text/plain": [
       "array([[ -4.  ,  -2.56,  -1.44,  -0.64,  -0.16,   0.  ,  -0.16,  -0.64,\n",
       "         -1.44,  -2.56,  -4.  ],\n",
       "       [ -4.8 ,  -3.2 ,  -1.92,  -0.96,  -0.32,   0.  ,  -0.  ,  -0.32,\n",
       "         -0.96,  -1.92,  -3.2 ],\n",
       "       [ -5.6 ,  -3.84,  -2.4 ,  -1.28,  -0.48,   0.  ,   0.16,  -0.  ,\n",
       "         -0.48,  -1.28,  -2.4 ],\n",
       "       [ -6.4 ,  -4.48,  -2.88,  -1.6 ,  -0.64,   0.  ,   0.32,   0.32,\n",
       "          0.  ,  -0.64,  -1.6 ],\n",
       "       [ -7.2 ,  -5.12,  -3.36,  -1.92,  -0.8 ,   0.  ,   0.48,   0.64,\n",
       "          0.48,  -0.  ,  -0.8 ],\n",
       "       [ -8.  ,  -5.76,  -3.84,  -2.24,  -0.96,   0.  ,   0.64,   0.96,\n",
       "          0.96,   0.64,   0.  ],\n",
       "       [ -8.8 ,  -6.4 ,  -4.32,  -2.56,  -1.12,   0.  ,   0.8 ,   1.28,\n",
       "          1.44,   1.28,   0.8 ],\n",
       "       [ -9.6 ,  -7.04,  -4.8 ,  -2.88,  -1.28,   0.  ,   0.96,   1.6 ,\n",
       "          1.92,   1.92,   1.6 ],\n",
       "       [-10.4 ,  -7.68,  -5.28,  -3.2 ,  -1.44,   0.  ,   1.12,   1.92,\n",
       "          2.4 ,   2.56,   2.4 ],\n",
       "       [-11.2 ,  -8.32,  -5.76,  -3.52,  -1.6 ,   0.  ,   1.28,   2.24,\n",
       "          2.88,   3.2 ,   3.2 ],\n",
       "       [-12.  ,  -8.96,  -6.24,  -3.84,  -1.76,   0.  ,   1.44,   2.56,\n",
       "          3.36,   3.84,   4.  ]])"
      ]
     },
     "execution_count": 41,
     "metadata": {},
     "output_type": "execute_result"
    }
   ],
   "source": [
    "np.argmax(y@x-fx,axis = 1)\n",
    "np.max(y@x-fx,axis = 1)\n",
    "y@x-fx"
   ]
  },
  {
   "cell_type": "code",
   "execution_count": 49,
   "metadata": {
    "scrolled": true
   },
   "outputs": [
    {
     "data": {
      "text/plain": [
       "array([[-6. , -5.2, -4.4, -3.6, -2.8, -2. , -1.2, -0.4,  0.4,  1.2,  2. ]])"
      ]
     },
     "execution_count": 49,
     "metadata": {},
     "output_type": "execute_result"
    },
    {
     "data": {
      "text/plain": [
       "array([[-2. ],\n",
       "       [-1.6],\n",
       "       [-1.2],\n",
       "       [-0.8],\n",
       "       [-0.4],\n",
       "       [ 0. ],\n",
       "       [ 0.4],\n",
       "       [ 0.8],\n",
       "       [ 1.2],\n",
       "       [ 1.6],\n",
       "       [ 2. ]])"
      ]
     },
     "execution_count": 49,
     "metadata": {},
     "output_type": "execute_result"
    },
    {
     "data": {
      "text/plain": [
       "array([[4. , 3.2, 2.4, 1.6, 0.8, 0. , 0.8, 1.6, 2.4, 3.2, 4. ],\n",
       "       [4.4, 3.6, 2.8, 2. , 1.2, 0.4, 0.4, 1.2, 2. , 2.8, 3.6],\n",
       "       [4.8, 4. , 3.2, 2.4, 1.6, 0.8, 0. , 0.8, 1.6, 2.4, 3.2],\n",
       "       [5.2, 4.4, 3.6, 2.8, 2. , 1.2, 0.4, 0.4, 1.2, 2. , 2.8],\n",
       "       [5.6, 4.8, 4. , 3.2, 2.4, 1.6, 0.8, 0. , 0.8, 1.6, 2.4],\n",
       "       [6. , 5.2, 4.4, 3.6, 2.8, 2. , 1.2, 0.4, 0.4, 1.2, 2. ],\n",
       "       [6.4, 5.6, 4.8, 4. , 3.2, 2.4, 1.6, 0.8, 0. , 0.8, 1.6],\n",
       "       [6.8, 6. , 5.2, 4.4, 3.6, 2.8, 2. , 1.2, 0.4, 0.4, 1.2],\n",
       "       [7.2, 6.4, 5.6, 4.8, 4. , 3.2, 2.4, 1.6, 0.8, 0. , 0.8],\n",
       "       [7.6, 6.8, 6. , 5.2, 4.4, 3.6, 2.8, 2. , 1.2, 0.4, 0.4],\n",
       "       [8. , 7.2, 6.4, 5.6, 4.8, 4. , 3.2, 2.4, 1.6, 0.8, 0. ]])"
      ]
     },
     "execution_count": 49,
     "metadata": {},
     "output_type": "execute_result"
    },
    {
     "data": {
      "text/plain": [
       "array([ 5,  5,  6,  6,  7,  7,  8,  8,  9,  9, 10], dtype=int64)"
      ]
     },
     "execution_count": 49,
     "metadata": {},
     "output_type": "execute_result"
    },
    {
     "data": {
      "text/plain": [
       "array([ 5,  5,  6,  6,  7,  7,  8,  8,  9,  9, 10], dtype=int64)"
      ]
     },
     "execution_count": 49,
     "metadata": {},
     "output_type": "execute_result"
    }
   ],
   "source": [
    "dfx\n",
    "y\n",
    "np.abs(dfx-y)\n",
    "np.argmin(np.abs(dfx-y),axis=1)\n",
    "np.argmax(y@x-fx,axis = 1)\n",
    "# 说明导数最接近于y时共轭函数取最大值"
   ]
  },
  {
   "cell_type": "markdown",
   "metadata": {},
   "source": [
    "### sympy"
   ]
  },
  {
   "cell_type": "code",
   "execution_count": 62,
   "metadata": {},
   "outputs": [
    {
     "data": {
      "image/png": "[encoded data removed]",
      "text/latex": [
       "$\\displaystyle 0.5 Q x^{2}$"
      ],
      "text/plain": [
       "       2\n",
       "0.5⋅Q⋅x "
      ]
     },
     "execution_count": 62,
     "metadata": {},
     "output_type": "execute_result"
    },
    {
     "data": {
      "image/png": "[encoded data removed]",
      "text/latex": [
       "$\\displaystyle Q$"
      ],
      "text/plain": [
       "Q"
      ]
     },
     "execution_count": 62,
     "metadata": {},
     "output_type": "execute_result"
    },
    {
     "data": {
      "image/png": "[encoded data removed]",
      "text/latex": [
       "$\\displaystyle - 0.5 Q x^{2} + x y$"
      ],
      "text/plain": [
       "         2      \n",
       "- 0.5⋅Q⋅x  + x⋅y"
      ]
     },
     "execution_count": 62,
     "metadata": {},
     "output_type": "execute_result"
    }
   ],
   "source": [
    "x,y,Q = symbols('x,y,Q')\n",
    "# Q = 2\n",
    "fx = 0.5*Q*x**2\n",
    "fx\n",
    "Q\n",
    "fy = y*x-fx\n",
    "fy"
   ]
  },
  {
   "cell_type": "code",
   "execution_count": 64,
   "metadata": {},
   "outputs": [
    {
     "data": {
      "image/png": "[encoded data removed]",
      "text/latex": [
       "$\\displaystyle \\frac{1}{Q}$"
      ],
      "text/plain": [
       "1\n",
       "─\n",
       "Q"
      ]
     },
     "execution_count": 64,
     "metadata": {},
     "output_type": "execute_result"
    },
    {
     "data": {
      "image/png": "[encoded data removed]",
      "text/latex": [
       "$\\displaystyle \\frac{0.5 y^{2}}{Q}$"
      ],
      "text/plain": [
       "     2\n",
       "0.5⋅y \n",
       "──────\n",
       "  Q   "
      ]
     },
     "execution_count": 64,
     "metadata": {},
     "output_type": "execute_result"
    }
   ],
   "source": [
    "Q_1 = 1/Q\n",
    "Q_1\n",
    "fy.subs({x:Q_1*y})"
   ]
  },
  {
   "cell_type": "markdown",
   "metadata": {},
   "source": [
    "# EM算法"
   ]
  },
  {
   "cell_type": "code",
   "execution_count": null,
   "metadata": {},
   "outputs": [],
   "source": []
  },
  {
   "cell_type": "markdown",
   "metadata": {},
   "source": [
    "# 马尔科夫"
   ]
  },
  {
   "cell_type": "code",
   "execution_count": 3,
   "metadata": {},
   "outputs": [
    {
     "data": {
      "text/latex": [
       "$\\displaystyle \\left[\\begin{matrix}0.65 & 0.28 & 0.07\\\\0.15 & 0.67 & 0.18\\\\0.12 & 0.36 & 0.52\\end{matrix}\\right]$"
      ],
      "text/plain": [
       "⎡0.65  0.28  0.07⎤\n",
       "⎢                ⎥\n",
       "⎢0.15  0.67  0.18⎥\n",
       "⎢                ⎥\n",
       "⎣0.12  0.36  0.52⎦"
      ]
     },
     "execution_count": 3,
     "metadata": {},
     "output_type": "execute_result"
    }
   ],
   "source": [
    "Q = Matrix([[0.65,0.28,0.07],[0.15,0.67,0.18],[0.12,0.36,0.52]])\n",
    "Q"
   ]
  },
  {
   "cell_type": "code",
   "execution_count": 4,
   "metadata": {},
   "outputs": [
    {
     "data": {
      "text/latex": [
       "$\\displaystyle \\left[\\begin{matrix}0.4729 & 0.3948 & 0.1323\\\\0.2196 & 0.5557 & 0.2247\\\\0.1944 & 0.462 & 0.3436\\end{matrix}\\right]$"
      ],
      "text/plain": [
       "⎡0.4729  0.3948  0.1323⎤\n",
       "⎢                      ⎥\n",
       "⎢0.2196  0.5557  0.2247⎥\n",
       "⎢                      ⎥\n",
       "⎣0.1944  0.462   0.3436⎦"
      ]
     },
     "execution_count": 4,
     "metadata": {},
     "output_type": "execute_result"
    }
   ],
   "source": [
    "Q**2"
   ]
  },
  {
   "cell_type": "code",
   "execution_count": 8,
   "metadata": {},
   "outputs": [
    {
     "data": {
      "text/latex": [
       "$\\displaystyle \\left[\\begin{matrix}0.287457651405093 & 0.488152109212073 & 0.224390239382835\\\\0.286184252489995 & 0.488648003835657 & 0.225167743674348\\\\0.285972205865037 & 0.488717566878628 & 0.225310227256336\\end{matrix}\\right]$"
      ],
      "text/plain": [
       "⎡0.287457651405093  0.488152109212073  0.224390239382835⎤\n",
       "⎢                                                       ⎥\n",
       "⎢0.286184252489995  0.488648003835657  0.225167743674348⎥\n",
       "⎢                                                       ⎥\n",
       "⎣0.285972205865037  0.488717566878628  0.225310227256336⎦"
      ]
     },
     "execution_count": 8,
     "metadata": {},
     "output_type": "execute_result"
    }
   ],
   "source": [
    "Q**10"
   ]
  },
  {
   "cell_type": "code",
   "execution_count": 10,
   "metadata": {},
   "outputs": [
    {
     "data": {
      "text/latex": [
       "$\\displaystyle \\left[\\begin{matrix}\\frac{1}{4} & \\frac{1}{4} & \\frac{1}{4} & \\frac{1}{4}\\\\\\frac{1}{4} & \\frac{1}{4} & \\frac{1}{4} & \\frac{1}{4}\\\\\\frac{1}{4} & \\frac{1}{4} & \\frac{1}{4} & \\frac{1}{4}\\\\\\frac{1}{4} & \\frac{1}{4} & \\frac{1}{4} & \\frac{1}{4}\\end{matrix}\\right]$"
      ],
      "text/plain": [
       "⎡1/4  1/4  1/4  1/4⎤\n",
       "⎢                  ⎥\n",
       "⎢1/4  1/4  1/4  1/4⎥\n",
       "⎢                  ⎥\n",
       "⎢1/4  1/4  1/4  1/4⎥\n",
       "⎢                  ⎥\n",
       "⎣1/4  1/4  1/4  1/4⎦"
      ]
     },
     "execution_count": 10,
     "metadata": {},
     "output_type": "execute_result"
    }
   ],
   "source": [
    "Q = ones(4)/4\n",
    "Q"
   ]
  },
  {
   "cell_type": "code",
   "execution_count": 11,
   "metadata": {},
   "outputs": [
    {
     "data": {
      "text/latex": [
       "$\\displaystyle \\left[\\begin{matrix}\\frac{1}{4} & \\frac{1}{4} & \\frac{1}{4} & \\frac{1}{4}\\\\\\frac{1}{4} & \\frac{1}{4} & \\frac{1}{4} & \\frac{1}{4}\\\\\\frac{1}{4} & \\frac{1}{4} & \\frac{1}{4} & \\frac{1}{4}\\\\\\frac{1}{4} & \\frac{1}{4} & \\frac{1}{4} & \\frac{1}{4}\\end{matrix}\\right]$"
      ],
      "text/plain": [
       "⎡1/4  1/4  1/4  1/4⎤\n",
       "⎢                  ⎥\n",
       "⎢1/4  1/4  1/4  1/4⎥\n",
       "⎢                  ⎥\n",
       "⎢1/4  1/4  1/4  1/4⎥\n",
       "⎢                  ⎥\n",
       "⎣1/4  1/4  1/4  1/4⎦"
      ]
     },
     "execution_count": 11,
     "metadata": {},
     "output_type": "execute_result"
    }
   ],
   "source": [
    "Q**10"
   ]
  }
 ],
 "metadata": {
  "kernelspec": {
   "display_name": "Python 3",
   "language": "python",
   "name": "python3"
  },
  "language_info": {
   "codemirror_mode": {
    "name": "ipython",
    "version": 3
   },
   "file_extension": ".py",
   "mimetype": "text/x-python",
   "name": "python",
   "nbconvert_exporter": "python",
   "pygments_lexer": "ipython3",
   "version": "3.7.6"
  },
  "toc": {
   "base_numbering": 1,
   "nav_menu": {},
   "number_sections": true,
   "sideBar": true,
   "skip_h1_title": false,
   "title_cell": "Table of Contents",
   "title_sidebar": "Contents",
   "toc_cell": false,
   "toc_position": {},
   "toc_section_display": true,
   "toc_window_display": true
  }
 },
 "nbformat": 4,
 "nbformat_minor": 4
}
